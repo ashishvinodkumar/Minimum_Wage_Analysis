{
 "cells": [
  {
   "cell_type": "code",
   "execution_count": 1,
   "metadata": {},
   "outputs": [],
   "source": [
    "import pandas as pd\n",
    "import numpy as np\n",
    "pd.set_option('display.max_columns', None)\n",
    "pd.set_option('display.max_rows', None)"
   ]
  },
  {
   "cell_type": "markdown",
   "metadata": {},
   "source": [
    "### Load individual datasets"
   ]
  },
  {
   "cell_type": "code",
   "execution_count": 2,
   "metadata": {},
   "outputs": [],
   "source": [
    "unemp = pd.read_csv('../20_intermediate_files/unemployment_annualized_table.csv')\n",
    "unemp = unemp.drop('Unnamed: 0', axis=1)\n",
    "gdp = pd.read_csv('../20_intermediate_files/gdp_table.csv')\n",
    "gdp = gdp.drop('Unnamed: 0', axis=1)\n",
    "pop = pd.read_csv('../20_intermediate_files/population_table.csv')\n",
    "pop = pop.drop('Unnamed: 0', axis=1)"
   ]
  },
  {
   "cell_type": "markdown",
   "metadata": {},
   "source": [
    "### Merge datasets"
   ]
  },
  {
   "cell_type": "code",
   "execution_count": 3,
   "metadata": {},
   "outputs": [],
   "source": [
    "pop_gdp = pd.merge(pop, gdp, how='inner', left_on = ['State', 'Year'], right_on = ['GeoName', 'Year'], validate='1:1', indicator=True)\n",
    "pop_gdp = pop_gdp[['State', 'Year', 'Population', 'gdp', '_merge']]\n",
    "pop_gdp = pop_gdp.rename(columns={\"_merge\": \"pop_gdp_merge\"})\n",
    "\n",
    "pop_gdp['Year'] = pop_gdp['Year'].astype('str')\n",
    "unemp['Year'] = unemp['Year'].astype('str')"
   ]
  },
  {
   "cell_type": "code",
   "execution_count": 4,
   "metadata": {},
   "outputs": [],
   "source": [
    "df = pd.merge(unemp, pop_gdp, left_on = ['State', 'Year'], right_on = ['State', 'Year'], how='inner', validate='m:1', indicator=True)\n",
    "df = df.drop(['pop_gdp_merge', '_merge'], axis=1)"
   ]
  },
  {
   "cell_type": "markdown",
   "metadata": {},
   "source": [
    "### Create treatment and control states"
   ]
  },
  {
   "cell_type": "code",
   "execution_count": 5,
   "metadata": {},
   "outputs": [],
   "source": [
    "# Treatment = South Dakota, West Virginia, Nebraska\n",
    "# Control = Iowa, Idaho, Kansas\n",
    "condition = (df['State'] == 'South Dakota') | (df['State'] == 'West Virginia') | (df['State'] == 'Nebraska')\n",
    "df['treatment'] = 0\n",
    "df.loc[condition, 'treatment'] = 1\n",
    "df = df.reset_index(drop=True)\n",
    "df['treatment'] = pd.Categorical(df['treatment']) "
   ]
  },
  {
   "cell_type": "markdown",
   "metadata": {},
   "source": [
    "### Create full dataset csv"
   ]
  },
  {
   "cell_type": "code",
   "execution_count": 6,
   "metadata": {},
   "outputs": [
    {
     "data": {
      "text/html": [
       "<div>\n",
       "<style scoped>\n",
       "    .dataframe tbody tr th:only-of-type {\n",
       "        vertical-align: middle;\n",
       "    }\n",
       "\n",
       "    .dataframe tbody tr th {\n",
       "        vertical-align: top;\n",
       "    }\n",
       "\n",
       "    .dataframe thead th {\n",
       "        text-align: right;\n",
       "    }\n",
       "</style>\n",
       "<table border=\"1\" class=\"dataframe\">\n",
       "  <thead>\n",
       "    <tr style=\"text-align: right;\">\n",
       "      <th></th>\n",
       "      <th>State</th>\n",
       "      <th>Year</th>\n",
       "      <th>FIPS_Code</th>\n",
       "      <th>Civilian_Pop</th>\n",
       "      <th>Civilian_Labor_Force</th>\n",
       "      <th>Labor_Force_Pct</th>\n",
       "      <th>Employed_Total</th>\n",
       "      <th>Employed_Pct</th>\n",
       "      <th>Unemployed_Total</th>\n",
       "      <th>Unemployed_Rate</th>\n",
       "      <th>Population</th>\n",
       "      <th>gdp</th>\n",
       "      <th>treatment</th>\n",
       "    </tr>\n",
       "  </thead>\n",
       "  <tbody>\n",
       "    <tr>\n",
       "      <th>0</th>\n",
       "      <td>Alabama</td>\n",
       "      <td>2010</td>\n",
       "      <td>1.0</td>\n",
       "      <td>3.690247e+06</td>\n",
       "      <td>2.196694e+06</td>\n",
       "      <td>59.508333</td>\n",
       "      <td>1.968757e+06</td>\n",
       "      <td>53.341667</td>\n",
       "      <td>227937.666667</td>\n",
       "      <td>10.375000</td>\n",
       "      <td>4785437.0</td>\n",
       "      <td>183014.5</td>\n",
       "      <td>0</td>\n",
       "    </tr>\n",
       "    <tr>\n",
       "      <th>1</th>\n",
       "      <td>Alabama</td>\n",
       "      <td>2011</td>\n",
       "      <td>1.0</td>\n",
       "      <td>3.725085e+06</td>\n",
       "      <td>2.201954e+06</td>\n",
       "      <td>59.116667</td>\n",
       "      <td>1.991027e+06</td>\n",
       "      <td>53.458333</td>\n",
       "      <td>210927.916667</td>\n",
       "      <td>9.583333</td>\n",
       "      <td>4799069.0</td>\n",
       "      <td>185666.9</td>\n",
       "      <td>0</td>\n",
       "    </tr>\n",
       "    <tr>\n",
       "      <th>2</th>\n",
       "      <td>Alabama</td>\n",
       "      <td>2012</td>\n",
       "      <td>1.0</td>\n",
       "      <td>3.745693e+06</td>\n",
       "      <td>2.179075e+06</td>\n",
       "      <td>58.166667</td>\n",
       "      <td>2.001118e+06</td>\n",
       "      <td>53.425000</td>\n",
       "      <td>177957.333333</td>\n",
       "      <td>8.158333</td>\n",
       "      <td>4815588.0</td>\n",
       "      <td>186553.9</td>\n",
       "      <td>0</td>\n",
       "    </tr>\n",
       "    <tr>\n",
       "      <th>3</th>\n",
       "      <td>Alabama</td>\n",
       "      <td>2013</td>\n",
       "      <td>1.0</td>\n",
       "      <td>3.765926e+06</td>\n",
       "      <td>2.172942e+06</td>\n",
       "      <td>57.725000</td>\n",
       "      <td>2.013764e+06</td>\n",
       "      <td>53.466667</td>\n",
       "      <td>159177.916667</td>\n",
       "      <td>7.325000</td>\n",
       "      <td>4830081.0</td>\n",
       "      <td>188814.2</td>\n",
       "      <td>0</td>\n",
       "    </tr>\n",
       "    <tr>\n",
       "      <th>4</th>\n",
       "      <td>Alabama</td>\n",
       "      <td>2014</td>\n",
       "      <td>1.0</td>\n",
       "      <td>3.783191e+06</td>\n",
       "      <td>2.164596e+06</td>\n",
       "      <td>57.225000</td>\n",
       "      <td>2.018737e+06</td>\n",
       "      <td>53.366667</td>\n",
       "      <td>145858.166667</td>\n",
       "      <td>6.733333</td>\n",
       "      <td>4841799.0</td>\n",
       "      <td>187568.0</td>\n",
       "      <td>0</td>\n",
       "    </tr>\n",
       "  </tbody>\n",
       "</table>\n",
       "</div>"
      ],
      "text/plain": [
       "     State  Year  FIPS_Code  Civilian_Pop  Civilian_Labor_Force  \\\n",
       "0  Alabama  2010        1.0  3.690247e+06          2.196694e+06   \n",
       "1  Alabama  2011        1.0  3.725085e+06          2.201954e+06   \n",
       "2  Alabama  2012        1.0  3.745693e+06          2.179075e+06   \n",
       "3  Alabama  2013        1.0  3.765926e+06          2.172942e+06   \n",
       "4  Alabama  2014        1.0  3.783191e+06          2.164596e+06   \n",
       "\n",
       "   Labor_Force_Pct  Employed_Total  Employed_Pct  Unemployed_Total  \\\n",
       "0        59.508333    1.968757e+06     53.341667     227937.666667   \n",
       "1        59.116667    1.991027e+06     53.458333     210927.916667   \n",
       "2        58.166667    2.001118e+06     53.425000     177957.333333   \n",
       "3        57.725000    2.013764e+06     53.466667     159177.916667   \n",
       "4        57.225000    2.018737e+06     53.366667     145858.166667   \n",
       "\n",
       "   Unemployed_Rate  Population       gdp treatment  \n",
       "0        10.375000   4785437.0  183014.5         0  \n",
       "1         9.583333   4799069.0  185666.9         0  \n",
       "2         8.158333   4815588.0  186553.9         0  \n",
       "3         7.325000   4830081.0  188814.2         0  \n",
       "4         6.733333   4841799.0  187568.0         0  "
      ]
     },
     "execution_count": 6,
     "metadata": {},
     "output_type": "execute_result"
    }
   ],
   "source": [
    "df.head()"
   ]
  },
  {
   "cell_type": "code",
   "execution_count": 7,
   "metadata": {},
   "outputs": [],
   "source": [
    "df.to_csv('../20_intermediate_files/full_dataset.csv')"
   ]
  },
  {
   "cell_type": "markdown",
   "metadata": {},
   "source": [
    "### Subset to 6 target states"
   ]
  },
  {
   "cell_type": "code",
   "execution_count": 8,
   "metadata": {},
   "outputs": [],
   "source": [
    "states = ['South Dakota', 'West Virginia', 'Nebraska', 'Iowa', 'Idaho', 'Kansas']\n",
    "df = df[df['State'].isin(states)]"
   ]
  },
  {
   "cell_type": "code",
   "execution_count": 9,
   "metadata": {},
   "outputs": [
    {
     "data": {
      "text/plain": [
       "(60, 13)"
      ]
     },
     "execution_count": 9,
     "metadata": {},
     "output_type": "execute_result"
    }
   ],
   "source": [
    "df.shape"
   ]
  },
  {
   "cell_type": "markdown",
   "metadata": {},
   "source": [
    "### Create final dataset csv (with 6 target states)"
   ]
  },
  {
   "cell_type": "code",
   "execution_count": 10,
   "metadata": {},
   "outputs": [],
   "source": [
    "df.to_csv('../20_intermediate_files/final_dataset.csv')"
   ]
  },
  {
   "cell_type": "code",
   "execution_count": null,
   "metadata": {},
   "outputs": [],
   "source": []
  }
 ],
 "metadata": {
  "kernelspec": {
   "display_name": "Python 3",
   "language": "python",
   "name": "python3"
  },
  "language_info": {
   "codemirror_mode": {
    "name": "ipython",
    "version": 3
   },
   "file_extension": ".py",
   "mimetype": "text/x-python",
   "name": "python",
   "nbconvert_exporter": "python",
   "pygments_lexer": "ipython3",
   "version": "3.8.5"
  }
 },
 "nbformat": 4,
 "nbformat_minor": 4
}
